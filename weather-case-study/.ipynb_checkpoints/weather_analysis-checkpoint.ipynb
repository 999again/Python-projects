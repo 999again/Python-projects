{
 "cells": [
  {
   "cell_type": "code",
   "execution_count": 1,
   "id": "ebf62fdf-98cc-44bb-989a-733774bbd572",
   "metadata": {},
   "outputs": [],
   "source": [
    "import pandas as pd\n",
    "import matplotlib.pyplot as plt"
   ]
  },
  {
   "cell_type": "code",
   "execution_count": 14,
   "id": "cdb4aaad-f690-4413-99a9-6b1a0df3871a",
   "metadata": {},
   "outputs": [
    {
     "name": "stdout",
     "output_type": "stream",
     "text": [
      "           Date  Rainfall  Temperature  Humidity\n",
      "0    2024-01-01      23.8         33.4      85.2\n",
      "1    2024-01-02       7.4         28.1      74.2\n",
      "2    2024-01-03       0.0         25.7      76.3\n",
      "3    2024-01-04       0.0         30.8      78.3\n",
      "4    2024-01-05      25.9         30.6      89.1\n",
      "..          ...       ...          ...       ...\n",
      "177  2024-06-26       0.0         30.9      61.0\n",
      "178  2024-06-27      11.3         27.7      83.3\n",
      "179  2024-06-28       0.0         31.2      77.2\n",
      "180  2024-06-29       7.3         31.9      73.9\n",
      "181  2024-06-30       0.0         31.2      76.8\n",
      "\n",
      "[182 rows x 4 columns]\n"
     ]
    }
   ],
   "source": [
    "data = pd.read_csv(\"ghana_weather_jan_to_june.csv\")\n",
    "print(data)"
   ]
  },
  {
   "cell_type": "code",
   "execution_count": 15,
   "id": "e6d96831-10c9-46cf-b6b5-f2daf9d3bc52",
   "metadata": {},
   "outputs": [
    {
     "name": "stdout",
     "output_type": "stream",
     "text": [
      "          Date  Rainfall  Temperature  Humidity\n",
      "0   2024-01-01      23.8         33.4      85.2\n",
      "1   2024-01-02       7.4         28.1      74.2\n",
      "2   2024-01-03       0.0         25.7      76.3\n",
      "3   2024-01-04       0.0         30.8      78.3\n",
      "4   2024-01-05      25.9         30.6      89.1\n",
      "..         ...       ...          ...       ...\n",
      "177 2024-06-26       0.0         30.9      61.0\n",
      "178 2024-06-27      11.3         27.7      83.3\n",
      "179 2024-06-28       0.0         31.2      77.2\n",
      "180 2024-06-29       7.3         31.9      73.9\n",
      "181 2024-06-30       0.0         31.2      76.8\n",
      "\n",
      "[182 rows x 4 columns]\n"
     ]
    }
   ],
   "source": [
    "data[\"Date\"] = pd.to_datetime(data['Date'])\n",
    "print(data)"
   ]
  },
  {
   "cell_type": "code",
   "execution_count": 16,
   "id": "5f3f9902-ce28-499d-8797-49895fca4cfa",
   "metadata": {},
   "outputs": [
    {
     "name": "stdout",
     "output_type": "stream",
     "text": [
      "        Date  Rainfall  Temperature  Humidity\n",
      "0 2024-01-01      23.8         33.4      85.2\n",
      "1 2024-01-02       7.4         28.1      74.2\n",
      "2 2024-01-03       0.0         25.7      76.3\n",
      "3 2024-01-04       0.0         30.8      78.3\n",
      "4 2024-01-05      25.9         30.6      89.1\n"
     ]
    }
   ],
   "source": [
    "print(data.head())"
   ]
  },
  {
   "cell_type": "code",
   "execution_count": 18,
   "id": "07fc87e4-e9ff-4797-866d-fc2d09ae3009",
   "metadata": {},
   "outputs": [
    {
     "name": "stdout",
     "output_type": "stream",
     "text": [
      "<class 'pandas.core.frame.DataFrame'>\n",
      "RangeIndex: 182 entries, 0 to 181\n",
      "Data columns (total 4 columns):\n",
      " #   Column       Non-Null Count  Dtype         \n",
      "---  ------       --------------  -----         \n",
      " 0   Date         182 non-null    datetime64[ns]\n",
      " 1   Rainfall     182 non-null    float64       \n",
      " 2   Temperature  182 non-null    float64       \n",
      " 3   Humidity     182 non-null    float64       \n",
      "dtypes: datetime64[ns](1), float64(3)\n",
      "memory usage: 5.8 KB\n"
     ]
    }
   ],
   "source": [
    "data.info()"
   ]
  },
  {
   "cell_type": "code",
   "execution_count": 19,
   "id": "bf1366f1-3153-42f0-88af-ccffd31bf8d5",
   "metadata": {},
   "outputs": [
    {
     "data": {
      "text/html": [
       "<div>\n",
       "<style scoped>\n",
       "    .dataframe tbody tr th:only-of-type {\n",
       "        vertical-align: middle;\n",
       "    }\n",
       "\n",
       "    .dataframe tbody tr th {\n",
       "        vertical-align: top;\n",
       "    }\n",
       "\n",
       "    .dataframe thead th {\n",
       "        text-align: right;\n",
       "    }\n",
       "</style>\n",
       "<table border=\"1\" class=\"dataframe\">\n",
       "  <thead>\n",
       "    <tr style=\"text-align: right;\">\n",
       "      <th></th>\n",
       "      <th>Date</th>\n",
       "      <th>Rainfall</th>\n",
       "      <th>Temperature</th>\n",
       "      <th>Humidity</th>\n",
       "    </tr>\n",
       "  </thead>\n",
       "  <tbody>\n",
       "    <tr>\n",
       "      <th>count</th>\n",
       "      <td>182</td>\n",
       "      <td>182.000000</td>\n",
       "      <td>182.000000</td>\n",
       "      <td>182.000000</td>\n",
       "    </tr>\n",
       "    <tr>\n",
       "      <th>mean</th>\n",
       "      <td>2024-03-31 12:00:00</td>\n",
       "      <td>11.366484</td>\n",
       "      <td>29.840659</td>\n",
       "      <td>74.990659</td>\n",
       "    </tr>\n",
       "    <tr>\n",
       "      <th>min</th>\n",
       "      <td>2024-01-01 00:00:00</td>\n",
       "      <td>0.000000</td>\n",
       "      <td>24.100000</td>\n",
       "      <td>60.100000</td>\n",
       "    </tr>\n",
       "    <tr>\n",
       "      <th>25%</th>\n",
       "      <td>2024-02-15 06:00:00</td>\n",
       "      <td>0.625000</td>\n",
       "      <td>27.000000</td>\n",
       "      <td>66.725000</td>\n",
       "    </tr>\n",
       "    <tr>\n",
       "      <th>50%</th>\n",
       "      <td>2024-03-31 12:00:00</td>\n",
       "      <td>10.400000</td>\n",
       "      <td>29.950000</td>\n",
       "      <td>75.600000</td>\n",
       "    </tr>\n",
       "    <tr>\n",
       "      <th>75%</th>\n",
       "      <td>2024-05-15 18:00:00</td>\n",
       "      <td>20.675000</td>\n",
       "      <td>32.775000</td>\n",
       "      <td>82.500000</td>\n",
       "    </tr>\n",
       "    <tr>\n",
       "      <th>max</th>\n",
       "      <td>2024-06-30 00:00:00</td>\n",
       "      <td>30.000000</td>\n",
       "      <td>34.900000</td>\n",
       "      <td>89.800000</td>\n",
       "    </tr>\n",
       "    <tr>\n",
       "      <th>std</th>\n",
       "      <td>NaN</td>\n",
       "      <td>10.129800</td>\n",
       "      <td>3.289175</td>\n",
       "      <td>8.723884</td>\n",
       "    </tr>\n",
       "  </tbody>\n",
       "</table>\n",
       "</div>"
      ],
      "text/plain": [
       "                      Date    Rainfall  Temperature    Humidity\n",
       "count                  182  182.000000   182.000000  182.000000\n",
       "mean   2024-03-31 12:00:00   11.366484    29.840659   74.990659\n",
       "min    2024-01-01 00:00:00    0.000000    24.100000   60.100000\n",
       "25%    2024-02-15 06:00:00    0.625000    27.000000   66.725000\n",
       "50%    2024-03-31 12:00:00   10.400000    29.950000   75.600000\n",
       "75%    2024-05-15 18:00:00   20.675000    32.775000   82.500000\n",
       "max    2024-06-30 00:00:00   30.000000    34.900000   89.800000\n",
       "std                    NaN   10.129800     3.289175    8.723884"
      ]
     },
     "execution_count": 19,
     "metadata": {},
     "output_type": "execute_result"
    }
   ],
   "source": [
    "data.describe()"
   ]
  },
  {
   "cell_type": "code",
   "execution_count": 22,
   "id": "ecd27c30-7b88-483d-bdb4-ba15fda3df8f",
   "metadata": {},
   "outputs": [
    {
     "data": {
      "text/plain": [
       "Index(['Date', 'Rainfall', 'Temperature', 'Humidity'], dtype='object')"
      ]
     },
     "execution_count": 22,
     "metadata": {},
     "output_type": "execute_result"
    }
   ],
   "source": [
    "data.shape\n",
    "data.columns"
   ]
  },
  {
   "cell_type": "code",
   "execution_count": 23,
   "id": "b453551d-def7-4286-8165-493a8b961cd8",
   "metadata": {},
   "outputs": [],
   "source": [
    "def classify_rain(mm):\n",
    "    if mm > 10:\n",
    "        return \"Heavy Rainfall\"\n",
    "    elif mm > 0:\n",
    "        return \"Light Rain\"\n",
    "    else:\n",
    "        return \"Dry\""
   ]
  },
  {
   "cell_type": "code",
   "execution_count": 25,
   "id": "07ddb267-7f87-49d1-890b-3510a443f97e",
   "metadata": {},
   "outputs": [
    {
     "name": "stdout",
     "output_type": "stream",
     "text": [
      "          Date  Rainfall  Temperature  Humidity     WeatherType\n",
      "0   2024-01-01      23.8         33.4      85.2  Heavy Rainfall\n",
      "1   2024-01-02       7.4         28.1      74.2      Light Rain\n",
      "2   2024-01-03       0.0         25.7      76.3             Dry\n",
      "3   2024-01-04       0.0         30.8      78.3             Dry\n",
      "4   2024-01-05      25.9         30.6      89.1  Heavy Rainfall\n",
      "..         ...       ...          ...       ...             ...\n",
      "177 2024-06-26       0.0         30.9      61.0             Dry\n",
      "178 2024-06-27      11.3         27.7      83.3  Heavy Rainfall\n",
      "179 2024-06-28       0.0         31.2      77.2             Dry\n",
      "180 2024-06-29       7.3         31.9      73.9      Light Rain\n",
      "181 2024-06-30       0.0         31.2      76.8             Dry\n",
      "\n",
      "[182 rows x 5 columns]\n"
     ]
    }
   ],
   "source": [
    "data[\"WeatherType\"] = data[\"Rainfall\"].apply(classify_rain)\n",
    "print(data)"
   ]
  },
  {
   "cell_type": "code",
   "execution_count": 27,
   "id": "73644c3f-dd65-4f7e-86a0-aa26a8c16df4",
   "metadata": {},
   "outputs": [
    {
     "name": "stdout",
     "output_type": "stream",
     "text": [
      "          Date  Rainfall  Temperature  Humidity     WeatherType    Month\n",
      "0   2024-01-01      23.8         33.4      85.2  Heavy Rainfall  January\n",
      "1   2024-01-02       7.4         28.1      74.2      Light Rain  January\n",
      "2   2024-01-03       0.0         25.7      76.3             Dry  January\n",
      "3   2024-01-04       0.0         30.8      78.3             Dry  January\n",
      "4   2024-01-05      25.9         30.6      89.1  Heavy Rainfall  January\n",
      "..         ...       ...          ...       ...             ...      ...\n",
      "177 2024-06-26       0.0         30.9      61.0             Dry     June\n",
      "178 2024-06-27      11.3         27.7      83.3  Heavy Rainfall     June\n",
      "179 2024-06-28       0.0         31.2      77.2             Dry     June\n",
      "180 2024-06-29       7.3         31.9      73.9      Light Rain     June\n",
      "181 2024-06-30       0.0         31.2      76.8             Dry     June\n",
      "\n",
      "[182 rows x 6 columns]\n"
     ]
    }
   ],
   "source": [
    "# Creating a new column with the name month and extracting the months from the date\n",
    "data['Month'] = data[\"Date\"].dt.strftime(\"%B\")\n",
    "print(data)"
   ]
  },
  {
   "cell_type": "code",
   "execution_count": 30,
   "id": "d8e9277c-2d42-413d-8165-a5d9491dd9db",
   "metadata": {},
   "outputs": [
    {
     "name": "stdout",
     "output_type": "stream",
     "text": [
      "Month\n",
      "April        9.493333\n",
      "February     8.948276\n",
      "January     11.870968\n",
      "June         8.863333\n",
      "March       11.038710\n",
      "May         17.687097\n",
      "Name: Rainfall, dtype: float64\n",
      "Month\n",
      "April       29.476667\n",
      "February    29.689655\n",
      "January     29.616129\n",
      "June        29.766667\n",
      "March       30.229032\n",
      "May         30.241935\n",
      "Name: Temperature, dtype: float64\n"
     ]
    }
   ],
   "source": [
    "monthly_rain = data.groupby(\"Month\")[\"Rainfall\"].mean()\n",
    "print(monthly_rain)\n",
    "monthly_temperature = data.groupby(\"Month\")[\"Temperature\"].mean()\n",
    "print(monthly_temperature)"
   ]
  },
  {
   "cell_type": "code",
   "execution_count": 40,
   "id": "d425bd3a-368a-42b7-859e-bd1cf149e424",
   "metadata": {},
   "outputs": [
    {
     "data": {
      "text/plain": [
       "[]"
      ]
     },
     "execution_count": 40,
     "metadata": {},
     "output_type": "execute_result"
    },
    {
     "data": {
      "image/png": "[encoded data removed]",
      "text/plain": [
       "<Figure size 800x500 with 1 Axes>"
      ]
     },
     "metadata": {},
     "output_type": "display_data"
    }
   ],
   "source": [
    "plt.figure(figsize=(8, 5))\n",
    "plt.plot(monthly_rain.index, monthly_rain.values, linestyle=\"--\", color=\"red\")\n",
    "plt.title(\"Average Rainfall Per Month\")\n",
    "plt.xlabel(\"Months\")\n",
    "plt.ylabel(\"Average Rainifall\")\n",
    "plt.grid(True)\n",
    "plt.plot()"
   ]
  },
  {
   "cell_type": "code",
   "execution_count": 43,
   "id": "30675559-e670-43d3-b15d-1a8ca1f11626",
   "metadata": {},
   "outputs": [
    {
     "data": {
      "image/png": "[encoded data removed]",
      "text/plain": [
       "<Figure size 800x500 with 1 Axes>"
      ]
     },
     "metadata": {},
     "output_type": "display_data"
    }
   ],
   "source": [
    "plt.figure(figsize=(8, 5))\n",
    "plt.bar(monthly_temperature.index, monthly_temperature.values, color=\"pink\")\n",
    "plt.title(\"Average Temperature Per Month\")\n",
    "plt.xlabel(\"Months\")\n",
    "plt.ylabel(\"Average Temperature\")\n",
    "plt.tight_layout()\n",
    "plt.show()"
   ]
  },
  {
   "cell_type": "code",
   "execution_count": 49,
   "id": "333e2e6a-a77a-49a8-bb23-3c00f8985c4f",
   "metadata": {},
   "outputs": [
    {
     "data": {
      "image/png": "[encoded data removed]",
      "text/plain": [
       "<Figure size 800x500 with 1 Axes>"
      ]
     },
     "metadata": {},
     "output_type": "display_data"
    }
   ],
   "source": [
    "plt.figure(figsize=(8, 5))\n",
    "plt.pie(data[\"WeatherType\"].value_counts(),\n",
    "        labels=data[\"WeatherType\"].value_counts().index,\n",
    "        autopct=\"%1.1f%%\",\n",
    "        startangle=90,)\n",
    "plt.title(\"WeatherType Distribution\")\n",
    "plt.axis(\"equal\")\n",
    "plt.show()"
   ]
  },
  {
   "cell_type": "code",
   "execution_count": 58,
   "id": "fa05a594-8f3a-4312-beaf-fa0764eb0db1",
   "metadata": {},
   "outputs": [
    {
     "name": "stdout",
     "output_type": "stream",
     "text": [
      "2068.7\n",
      "29.84065934065934\n",
      "30.0\n"
     ]
    }
   ],
   "source": [
    "total_rainfall = data[\"Rainfall\"].sum()\n",
    "average_temperature = data[\"Temperature\"].mean()\n",
    "highest_rain = data[\"Rainfall\"].max()\n",
    "\n",
    "print(total_rainfall)\n",
    "print(average_temperature)\n",
    "print(highest_rain)"
   ]
  },
  {
   "cell_type": "code",
   "execution_count": 59,
   "id": "b9ac6633-8594-4e66-9f7a-88de1fcced79",
   "metadata": {},
   "outputs": [
    {
     "name": "stdout",
     "output_type": "stream",
     "text": [
      "11\n",
      "2024-01-12 00:00:00\n",
      "January\n"
     ]
    }
   ],
   "source": [
    "max_index = data[\"Rainfall\"].idxmax()\n",
    "peak_date = data.loc[max_index, \"Date\"]\n",
    "peak_month = data.loc[max_index, \"Month\"]\n",
    "\n",
    "print(max_index)\n",
    "print(peak_date)\n",
    "print(peak_month)"
   ]
  },
  {
   "cell_type": "code",
   "execution_count": 60,
   "id": "0377e2c7-a54d-43df-b206-e3a439c9e325",
   "metadata": {},
   "outputs": [],
   "source": [
    "data.to_csv(\"cleaned_weather_data.csv\", index=False)"
   ]
  },
  {
   "cell_type": "code",
   "execution_count": null,
   "id": "8981b2f1-8893-4131-a5a0-b202e932e6b1",
   "metadata": {},
   "outputs": [],
   "source": []
  }
 ],
 "metadata": {
  "kernelspec": {
   "display_name": "Python 3 (ipykernel)",
   "language": "python",
   "name": "python3"
  },
  "language_info": {
   "codemirror_mode": {
    "name": "ipython",
    "version": 3
   },
   "file_extension": ".py",
   "mimetype": "text/x-python",
   "name": "python",
   "nbconvert_exporter": "python",
   "pygments_lexer": "ipython3",
   "version": "3.12.3"
  }
 },
 "nbformat": 4,
 "nbformat_minor": 5
}
