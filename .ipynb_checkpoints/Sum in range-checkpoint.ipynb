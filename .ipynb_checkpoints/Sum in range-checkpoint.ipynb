{
 "cells": [
  {
   "cell_type": "code",
   "execution_count": 1,
   "id": "4068b94e-4f3d-49b4-aed3-809e22d237b6",
   "metadata": {},
   "outputs": [
    {
     "name": "stdin",
     "output_type": "stream",
     "text": [
      "Enter a list of numbers:  1 2 3 4 5 6 7 8 9 10\n"
     ]
    },
    {
     "name": "stdout",
     "output_type": "stream",
     "text": [
      "Range:  9\n"
     ]
    }
   ],
   "source": [
    "numbers = input('Enter a list of numbers: ')\n",
    "nums = [int(x) for x in numbers.split()]\n",
    "\n",
    "max_num = nums[0]\n",
    "min_num = nums[0]\n",
    "\n",
    "for num in nums:\n",
    "    if num > max_num:\n",
    "        max_num = num\n",
    "    if num < min_num:\n",
    "        min_num = num\n",
    "\n",
    "range_val = max_num - min_num\n",
    "print(\"Range: \", range_val)"
   ]
  },
  {
   "cell_type": "code",
   "execution_count": null,
   "id": "34516c9b-0a55-41be-8a6a-9e850d892561",
   "metadata": {},
   "outputs": [],
   "source": []
  }
 ],
 "metadata": {
  "kernelspec": {
   "display_name": "Python 3 (ipykernel)",
   "language": "python",
   "name": "python3"
  },
  "language_info": {
   "codemirror_mode": {
    "name": "ipython",
    "version": 3
   },
   "file_extension": ".py",
   "mimetype": "text/x-python",
   "name": "python",
   "nbconvert_exporter": "python",
   "pygments_lexer": "ipython3",
   "version": "3.12.3"
  }
 },
 "nbformat": 4,
 "nbformat_minor": 5
}
