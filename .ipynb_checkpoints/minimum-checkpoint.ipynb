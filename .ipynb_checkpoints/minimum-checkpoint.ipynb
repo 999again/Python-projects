{
 "cells": [
  {
   "cell_type": "code",
   "execution_count": 4,
   "id": "664cd834-acea-4815-a27e-629fbc89d4b6",
   "metadata": {},
   "outputs": [
    {
     "name": "stdin",
     "output_type": "stream",
     "text": [
      "Enter a list of numbers: 23 2 34 666 43\n"
     ]
    },
    {
     "name": "stdout",
     "output_type": "stream",
     "text": [
      "2\n"
     ]
    }
   ],
   "source": [
    "numbers = input(\"Enter a list of numbers:\")\n",
    "new = numbers.split()\n",
    "nums = [int(x) for x in new]\n",
    "min_number = nums[0]\n",
    "for num in nums:\n",
    "    if num < min_number:\n",
    "        min_number = num\n",
    "print(min_number)"
   ]
  },
  {
   "cell_type": "code",
   "execution_count": null,
   "id": "7400c825-e4b4-4508-bbc0-312aa9cab758",
   "metadata": {},
   "outputs": [],
   "source": []
  }
 ],
 "metadata": {
  "kernelspec": {
   "display_name": "Python 3 (ipykernel)",
   "language": "python",
   "name": "python3"
  },
  "language_info": {
   "codemirror_mode": {
    "name": "ipython",
    "version": 3
   },
   "file_extension": ".py",
   "mimetype": "text/x-python",
   "name": "python",
   "nbconvert_exporter": "python",
   "pygments_lexer": "ipython3",
   "version": "3.12.3"
  }
 },
 "nbformat": 4,
 "nbformat_minor": 5
}
