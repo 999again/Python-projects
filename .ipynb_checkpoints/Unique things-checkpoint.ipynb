{
 "cells": [
  {
   "cell_type": "code",
   "execution_count": 1,
   "id": "79a77798-c47f-45f3-8da1-1dbae23f9141",
   "metadata": {},
   "outputs": [
    {
     "name": "stdout",
     "output_type": "stream",
     "text": [
      "0\n"
     ]
    }
   ],
   "source": [
    "s = \"leetcode\"\n",
    "char_count = {}\n",
    "for char in s:\n",
    "    if char in char_count:\n",
    "        char_count[char] += 1\n",
    "    else:\n",
    "        char_count[char] = 1\n",
    "for index, char in enumerate(s):\n",
    "    if char_count[char] == 1:\n",
    "        print(index)\n",
    "        break\n",
    "else:\n",
    "    print(-1)\n"
   ]
  },
  {
   "cell_type": "code",
   "execution_count": 2,
   "id": "cc3e56c1-2999-4dff-96a9-b0b3b907b35a",
   "metadata": {},
   "outputs": [
    {
     "name": "stdout",
     "output_type": "stream",
     "text": [
      "['this', 'is', 'a', 'test', 'this', 'is', 'only', 'a', 'test']\n"
     ]
    }
   ],
   "source": [
    "sentence = \"this is a test this is only a test\"\n",
    "words = sentence.split()\n",
    "print(words)"
   ]
  },
  {
   "cell_type": "code",
   "execution_count": 3,
   "id": "c1b0f7a8-6884-4741-b50d-f10894a4cf07",
   "metadata": {},
   "outputs": [
    {
     "name": "stdout",
     "output_type": "stream",
     "text": [
      "{'this': 2, 'is': 2, 'a': 2, 'test': 2, 'only': 1}\n"
     ]
    }
   ],
   "source": [
    "word_count = {}\n",
    "for word in words:\n",
    "    if word in word_count:\n",
    "        word_count[word] += 1\n",
    "    else:\n",
    "        word_count[word] = 1\n",
    "print(word_count)"
   ]
  },
  {
   "cell_type": "code",
   "execution_count": 6,
   "id": "1ad394a8-867b-4fb8-9eaa-da1bf51d8865",
   "metadata": {},
   "outputs": [
    {
     "name": "stdout",
     "output_type": "stream",
     "text": [
      "6\n"
     ]
    }
   ],
   "source": [
    "for index,  word in enumerate(words):\n",
    "    if word_count[word] ==1:\n",
    "        print(index)\n",
    "        break\n",
    "else:\n",
    "    print(-1)"
   ]
  },
  {
   "cell_type": "code",
   "execution_count": null,
   "id": "13f75c44-68bd-40e8-9735-c7d07932370c",
   "metadata": {},
   "outputs": [],
   "source": []
  }
 ],
 "metadata": {
  "kernelspec": {
   "display_name": "Python 3 (ipykernel)",
   "language": "python",
   "name": "python3"
  },
  "language_info": {
   "codemirror_mode": {
    "name": "ipython",
    "version": 3
   },
   "file_extension": ".py",
   "mimetype": "text/x-python",
   "name": "python",
   "nbconvert_exporter": "python",
   "pygments_lexer": "ipython3",
   "version": "3.12.3"
  }
 },
 "nbformat": 4,
 "nbformat_minor": 5
}
