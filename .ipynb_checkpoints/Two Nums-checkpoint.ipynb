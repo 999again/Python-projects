{
 "cells": [
  {
   "cell_type": "code",
   "execution_count": 1,
   "id": "afbbcf06-69a7-4a2d-9733-85510090039a",
   "metadata": {},
   "outputs": [
    {
     "name": "stdout",
     "output_type": "stream",
     "text": [
      "[0, 1]\n"
     ]
    }
   ],
   "source": [
    "def fun(num, target):\n",
    "    for i in range(len(num)):\n",
    "        for j in range(i + 1, len(num)):\n",
    "            if num[i] + num[j] == target:\n",
    "                return [i, j]\n",
    "        \n",
    "num = [2, 7, 11, 15]\n",
    "target = 9\n",
    "\n",
    "print(fun(num, target))"
   ]
  },
  {
   "cell_type": "code",
   "execution_count": null,
   "id": "360b5b47-58e8-49f9-bba0-f2e2126f8d6d",
   "metadata": {},
   "outputs": [],
   "source": []
  }
 ],
 "metadata": {
  "kernelspec": {
   "display_name": "Python 3 (ipykernel)",
   "language": "python",
   "name": "python3"
  },
  "language_info": {
   "codemirror_mode": {
    "name": "ipython",
    "version": 3
   },
   "file_extension": ".py",
   "mimetype": "text/x-python",
   "name": "python",
   "nbconvert_exporter": "python",
   "pygments_lexer": "ipython3",
   "version": "3.12.3"
  }
 },
 "nbformat": 4,
 "nbformat_minor": 5
}
