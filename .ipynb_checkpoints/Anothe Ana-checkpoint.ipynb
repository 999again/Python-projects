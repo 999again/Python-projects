{
 "cells": [
  {
   "cell_type": "code",
   "execution_count": null,
   "id": "2e3d97f0-2a48-45ea-85e6-6b3014033390",
   "metadata": {},
   "outputs": [],
   "source": [
    "# Task: Valid Anagram\n",
    "\n",
    "# Given two strings s and t, return True if t is an anagram of s, and False otherwise.\n",
    "\n",
    "# Example:\n",
    "# Input: s = \"anagram\", t = \"nagaram\" --> Output: True\n",
    "# Input: s = \"rat\", t = \"car\" --> Output: False\n",
    "\n",
    "# Plan:\n",
    "# Step 1: If lengths are different, return False\n",
    "# Step 2: Count each letter in both strings\n",
    "# Step 3: Compare both dictionaries\n",
    "\n",
    "def is_anagram(s, t):\n",
    "    if len(s) != len(t):\n",
    "        return False\n",
    "\n",
    "    count_s = {}\n",
    "    count_t = {}\n",
    "\n",
    "    for char in s:\n",
    "        count_s[char] = count_s.get(char, 0) + 1\n",
    "    for char in t:\n",
    "        count_t[char] = count_t.get(char, 0) + 1\n",
    "\n",
    "    return count_s == count_t\n",
    "\n",
    "\n",
    "# Test cases\n",
    "print(is_anagram(\"anagram\", \"nagaram\"))  # True\n",
    "print(is_anagram(\"rat\", \"car\"))          # False\n",
    "print(is_anagram(\"a\", \"a\"))              # True\n",
    "print(is_anagram(\"\", \"\"))                # True\n",
    "print(is_anagram(\"abc\", \"cba\"))          # True\n"
   ]
  }
 ],
 "metadata": {
  "kernelspec": {
   "display_name": "Python 3 (ipykernel)",
   "language": "python",
   "name": "python3"
  },
  "language_info": {
   "codemirror_mode": {
    "name": "ipython",
    "version": 3
   },
   "file_extension": ".py",
   "mimetype": "text/x-python",
   "name": "python",
   "nbconvert_exporter": "python",
   "pygments_lexer": "ipython3",
   "version": "3.12.3"
  }
 },
 "nbformat": 4,
 "nbformat_minor": 5
}
