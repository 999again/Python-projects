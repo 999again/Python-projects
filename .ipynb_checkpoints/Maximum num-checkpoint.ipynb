{
 "cells": [
  {
   "cell_type": "code",
   "execution_count": 2,
   "id": "334809a2-9664-496d-9ca4-2522f5544db5",
   "metadata": {},
   "outputs": [],
   "source": [
    "numbers = [4, 7, 2, 9, 1]\n",
    "\n",
    "max_num = numbers[0]"
   ]
  },
  {
   "cell_type": "code",
   "execution_count": 3,
   "id": "6bf13712-d018-4e9c-9333-256c26251fb6",
   "metadata": {},
   "outputs": [],
   "source": [
    "for num in numbers:\n",
    "    if num > max_num:\n",
    "        max_num = num"
   ]
  },
  {
   "cell_type": "code",
   "execution_count": 4,
   "id": "a1ba860a-c35c-4a0a-b31e-e9667928e132",
   "metadata": {},
   "outputs": [
    {
     "name": "stdout",
     "output_type": "stream",
     "text": [
      "9\n"
     ]
    }
   ],
   "source": [
    "print(max_num)"
   ]
  },
  {
   "cell_type": "code",
   "execution_count": 10,
   "id": "c9237bdf-f21a-4faf-9188-7055124b78da",
   "metadata": {},
   "outputs": [
    {
     "name": "stdin",
     "output_type": "stream",
     "text": [
      "Enter a set of numbers: 12 11 23 100\n"
     ]
    },
    {
     "name": "stdout",
     "output_type": "stream",
     "text": [
      "3\n"
     ]
    }
   ],
   "source": [
    "numeros = input(\"Enter a set of numbers:\")\n",
    "new = numeros.split()\n",
    "nums= [int(x) for x in new]\n",
    "max_number = numeros[0]\n",
    "for num in numeros:\n",
    "    if num >= max_number:\n",
    "        max_number = num\n",
    "print(max_number)"
   ]
  },
  {
   "cell_type": "code",
   "execution_count": 11,
   "id": "55f2699e-ebad-47e0-9cf7-ca2e2b08416c",
   "metadata": {},
   "outputs": [
    {
     "name": "stdin",
     "output_type": "stream",
     "text": [
      "Enter a list of numbers:  4 24 75 32 45 1\n"
     ]
    },
    {
     "name": "stdout",
     "output_type": "stream",
     "text": [
      "The maximum number is: 75\n"
     ]
    }
   ],
   "source": [
    "numbers = input(\"Enter a list of numbers: \")\n",
    "new = numbers.split()\n",
    "nums = [int(x) for x in new]\n",
    "\n",
    "max_number = nums[0]\n",
    "for num in nums:\n",
    "    if num > max_number:\n",
    "        max_number = num\n",
    "\n",
    "print(\"The maximum number is:\", max_number)\n"
   ]
  },
  {
   "cell_type": "code",
   "execution_count": null,
   "id": "8c80cd6f-7b3b-4f46-b5b3-aa3366a8811d",
   "metadata": {},
   "outputs": [],
   "source": []
  }
 ],
 "metadata": {
  "kernelspec": {
   "display_name": "Python 3 (ipykernel)",
   "language": "python",
   "name": "python3"
  },
  "language_info": {
   "codemirror_mode": {
    "name": "ipython",
    "version": 3
   },
   "file_extension": ".py",
   "mimetype": "text/x-python",
   "name": "python",
   "nbconvert_exporter": "python",
   "pygments_lexer": "ipython3",
   "version": "3.12.3"
  }
 },
 "nbformat": 4,
 "nbformat_minor": 5
}
