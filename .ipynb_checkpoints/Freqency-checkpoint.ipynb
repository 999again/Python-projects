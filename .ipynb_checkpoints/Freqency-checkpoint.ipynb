{
 "cells": [
  {
   "cell_type": "code",
   "execution_count": null,
   "id": "b2b8f44f-a38a-4fac-a1af-67069d4d1a1e",
   "metadata": {},
   "outputs": [],
   "source": [
    "# Challenge: Frequency Counter\n",
    "# Task: Write a program that reads a list of numbers and prints how many times each number appears.\n",
    "\n",
    "# Step 1: Ask the user to input a list of numbers\n",
    "numbers = input(\"Enter a list of numbers: \")\n",
    "\n",
    "# Step 2: Convert the input string into a list of integers\n",
    "num_list = [int(x) for x in numbers.split()]\n",
    "\n",
    "# Step 3: Create an empty dictionary to store the frequency of each number\n",
    "frequency = {}\n",
    "\n",
    "# Step 4: Loop through the list and count each number's occurrences\n",
    "for num in num_list:\n",
    "    if num in frequency:\n",
    "        frequency[num] += 1\n",
    "    else:\n",
    "        frequency[num] = 1\n",
    "\n",
    "# Step 5: Print the frequency of each number\n",
    "for num, count in frequency.items():\n",
    "    print(f\"{num} appears {count} times\")\n"
   ]
  }
 ],
 "metadata": {
  "kernelspec": {
   "display_name": "Python 3 (ipykernel)",
   "language": "python",
   "name": "python3"
  },
  "language_info": {
   "codemirror_mode": {
    "name": "ipython",
    "version": 3
   },
   "file_extension": ".py",
   "mimetype": "text/x-python",
   "name": "python",
   "nbconvert_exporter": "python",
   "pygments_lexer": "ipython3",
   "version": "3.12.3"
  }
 },
 "nbformat": 4,
 "nbformat_minor": 5
}
