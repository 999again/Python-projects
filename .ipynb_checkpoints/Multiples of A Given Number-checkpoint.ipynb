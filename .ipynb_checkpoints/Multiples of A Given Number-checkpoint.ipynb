{
 "cells": [
  {
   "cell_type": "code",
   "execution_count": 1,
   "id": "31a5a308-f556-469d-a08b-c871d734420e",
   "metadata": {},
   "outputs": [
    {
     "name": "stdin",
     "output_type": "stream",
     "text": [
      "Enter a list of numbers:  3 6 7 8 9 12\n",
      "A specific number:  3\n"
     ]
    },
    {
     "name": "stdout",
     "output_type": "stream",
     "text": [
      "The multiples of 3 are 4\n"
     ]
    }
   ],
   "source": [
    "numbers = input('Enter a list of numbers: ')\n",
    "numbero = numbers.split()\n",
    "nums = [int(x) for x in numbero]\n",
    "\n",
    "base = int(input('A specific number: '))\n",
    "count = 0\n",
    "for num in nums:\n",
    "    if num % base == 0:\n",
    "        count += 1\n",
    "\n",
    "print(f\"The multiples of {base} are {count}\")"
   ]
  },
  {
   "cell_type": "code",
   "execution_count": null,
   "id": "1424745e-45c4-447c-b04e-2f4a8ac64e72",
   "metadata": {},
   "outputs": [],
   "source": []
  }
 ],
 "metadata": {
  "kernelspec": {
   "display_name": "Python 3 (ipykernel)",
   "language": "python",
   "name": "python3"
  },
  "language_info": {
   "codemirror_mode": {
    "name": "ipython",
    "version": 3
   },
   "file_extension": ".py",
   "mimetype": "text/x-python",
   "name": "python",
   "nbconvert_exporter": "python",
   "pygments_lexer": "ipython3",
   "version": "3.12.3"
  }
 },
 "nbformat": 4,
 "nbformat_minor": 5
}
