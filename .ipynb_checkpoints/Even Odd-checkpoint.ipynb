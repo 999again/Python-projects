{
 "cells": [
  {
   "cell_type": "code",
   "execution_count": 1,
   "id": "1df96f3d-9ce7-4f1e-9256-51bbaab5a28e",
   "metadata": {},
   "outputs": [],
   "source": [
    "def count_even_odd(numbers):\n",
    "    even_count = 0\n",
    "    odd_count = 0\n",
    "    for num in numbers:\n",
    "        if num % 2 == 0:\n",
    "            even_count += 1\n",
    "        else:\n",
    "            odd_count += 1\n",
    "    return even_count, odd_count"
   ]
  },
  {
   "cell_type": "code",
   "execution_count": 2,
   "id": "39fe01b3-66b3-49ef-8806-d12aaa69c4d5",
   "metadata": {},
   "outputs": [
    {
     "name": "stdin",
     "output_type": "stream",
     "text": [
      "Enter a list of numbers:  1 2 3 4 5 6 7 8 9\n"
     ]
    }
   ],
   "source": [
    "user_input = input(\"Enter a list of numbers: \")\n",
    "nums = [int(x) for x in user_input.split()]"
   ]
  },
  {
   "cell_type": "code",
   "execution_count": 3,
   "id": "89db86e6-dc09-406f-b492-2840e8431113",
   "metadata": {},
   "outputs": [
    {
     "name": "stdout",
     "output_type": "stream",
     "text": [
      "Even numbers: 4\n",
      "Odd numbers: 5\n"
     ]
    }
   ],
   "source": [
    "evens, odds = count_even_odd(nums)\n",
    "print(f\"Even numbers: {evens}\")\n",
    "print(f\"Odd numbers: {odds}\")"
   ]
  },
  {
   "cell_type": "code",
   "execution_count": null,
   "id": "9eeb5f0b-7a9a-4aff-b678-d482702059b4",
   "metadata": {},
   "outputs": [],
   "source": []
  }
 ],
 "metadata": {
  "kernelspec": {
   "display_name": "Python 3 (ipykernel)",
   "language": "python",
   "name": "python3"
  },
  "language_info": {
   "codemirror_mode": {
    "name": "ipython",
    "version": 3
   },
   "file_extension": ".py",
   "mimetype": "text/x-python",
   "name": "python",
   "nbconvert_exporter": "python",
   "pygments_lexer": "ipython3",
   "version": "3.12.3"
  }
 },
 "nbformat": 4,
 "nbformat_minor": 5
}
