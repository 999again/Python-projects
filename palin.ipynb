{
 "cells": [
  {
   "cell_type": "code",
   "execution_count": 1,
   "id": "2e3d97f0-2a48-45ea-85e6-6b3014033390",
   "metadata": {},
   "outputs": [
    {
     "name": "stdout",
     "output_type": "stream",
     "text": [
      "level\n",
      "\n",
      "madam\n"
     ]
    }
   ],
   "source": [
    "# Task: First Palindrome in a List\n",
    "\n",
    "# Plan:\n",
    "# Step 1: Go through each word in the list\n",
    "# Step 2: Check if the word is the same when reversed\n",
    "# Step 3: If yes, return it right away\n",
    "# Step 4: If no palindromes found, return an empty string\n",
    "\n",
    "def first_palindrome(words):\n",
    "    for word in words:  # Let's look at each word, one by one\n",
    "        if word == word[::-1]:  # If the word reads the same backward and forward...\n",
    "            return word  # Yay! We found the first one, return it!\n",
    "    return \"\"  # Uh-oh, no palindromes? Give back an empty string\n",
    "\n",
    "\n",
    "# Test examples\n",
    "print(first_palindrome([\"apple\", \"level\", \"world\"]))  # \"level\"\n",
    "print(first_palindrome([\"python\", \"java\", \"ruby\"]))   # \"\"\n",
    "print(first_palindrome([\"madam\", \"step\", \"on\", \"no\", \"pets\"]))  # \"madam\"\n"
   ]
  },
  {
   "cell_type": "code",
   "execution_count": null,
   "id": "50e9f449-0ae8-4c37-a4d8-7a221db8d207",
   "metadata": {},
   "outputs": [],
   "source": []
  }
 ],
 "metadata": {
  "kernelspec": {
   "display_name": "Python 3 (ipykernel)",
   "language": "python",
   "name": "python3"
  },
  "language_info": {
   "codemirror_mode": {
    "name": "ipython",
    "version": 3
   },
   "file_extension": ".py",
   "mimetype": "text/x-python",
   "name": "python",
   "nbconvert_exporter": "python",
   "pygments_lexer": "ipython3",
   "version": "3.12.3"
  }
 },
 "nbformat": 4,
 "nbformat_minor": 5
}
