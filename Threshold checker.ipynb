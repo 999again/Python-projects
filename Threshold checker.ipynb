{
 "cells": [
  {
   "cell_type": "code",
   "execution_count": 3,
   "id": "dfa8aff0-57e6-469f-84eb-a3ab03e1e235",
   "metadata": {},
   "outputs": [
    {
     "name": "stdin",
     "output_type": "stream",
     "text": [
      "Enter a list of numbers:  3 8 12 5 19\n",
      "Enter a threshold:  10\n"
     ]
    },
    {
     "name": "stdout",
     "output_type": "stream",
     "text": [
      "The count of numbers greater than the threshold are:  2\n"
     ]
    }
   ],
   "source": [
    "numbers = input('Enter a list of numbers: ')\n",
    "numbero = numbers.split()\n",
    "nums = [int(x) for x in numbero]\n",
    "\n",
    "threshold = int(input(\"Enter a threshold: \"))\n",
    "\n",
    "count = 0\n",
    "\n",
    "for num in nums:\n",
    "    if num > threshold:\n",
    "        count += 1\n",
    "\n",
    "print(\"The count of numbers greater than the threshold are: \", count)"
   ]
  },
  {
   "cell_type": "code",
   "execution_count": null,
   "id": "c45661e0-9a06-4740-844f-e00dae5cc6b5",
   "metadata": {},
   "outputs": [],
   "source": []
  }
 ],
 "metadata": {
  "kernelspec": {
   "display_name": "Python 3 (ipykernel)",
   "language": "python",
   "name": "python3"
  },
  "language_info": {
   "codemirror_mode": {
    "name": "ipython",
    "version": 3
   },
   "file_extension": ".py",
   "mimetype": "text/x-python",
   "name": "python",
   "nbconvert_exporter": "python",
   "pygments_lexer": "ipython3",
   "version": "3.12.3"
  }
 },
 "nbformat": 4,
 "nbformat_minor": 5
}
