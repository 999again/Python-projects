{
 "cells": [
  {
   "cell_type": "code",
   "execution_count": 2,
   "id": "7343a308-425c-4588-9284-99a85a32cdbd",
   "metadata": {},
   "outputs": [
    {
     "name": "stdin",
     "output_type": "stream",
     "text": [
      "Enter a list of numbers:  20 24 78 45 89 3\n"
     ]
    },
    {
     "name": "stdout",
     "output_type": "stream",
     "text": [
      "Max:  89\n",
      "Min:  3\n"
     ]
    }
   ],
   "source": [
    "numbers = input('Enter a list of numbers: ')\n",
    "numbero = numbers.split()\n",
    "nums = [int(x) for x in numbero]\n",
    "\n",
    "max_num = nums[0]\n",
    "min_num = nums[0]\n",
    "\n",
    "for num in nums:\n",
    "    if num > max_num:\n",
    "        max_num = num\n",
    "    if num < min_num:\n",
    "        min_num = num\n",
    "\n",
    "print(\"Max: \", max_num)\n",
    "print(\"Min: \", min_num)"
   ]
  },
  {
   "cell_type": "code",
   "execution_count": null,
   "id": "d0dd59ed-952a-4240-aae5-969b0e492019",
   "metadata": {},
   "outputs": [],
   "source": []
  }
 ],
 "metadata": {
  "kernelspec": {
   "display_name": "Python 3 (ipykernel)",
   "language": "python",
   "name": "python3"
  },
  "language_info": {
   "codemirror_mode": {
    "name": "ipython",
    "version": 3
   },
   "file_extension": ".py",
   "mimetype": "text/x-python",
   "name": "python",
   "nbconvert_exporter": "python",
   "pygments_lexer": "ipython3",
   "version": "3.12.3"
  }
 },
 "nbformat": 4,
 "nbformat_minor": 5
}
