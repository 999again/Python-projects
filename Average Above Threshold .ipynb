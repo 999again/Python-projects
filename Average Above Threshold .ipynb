{
 "cells": [
  {
   "cell_type": "code",
   "execution_count": 2,
   "id": "21bce297-cc3d-43bb-b0b9-7217157a46cf",
   "metadata": {},
   "outputs": [
    {
     "name": "stdin",
     "output_type": "stream",
     "text": [
      "Enter a list of numbers:  1 2 3 4 5 6 7\n",
      "A Threshold number:  4\n"
     ]
    },
    {
     "name": "stdout",
     "output_type": "stream",
     "text": [
      "6.0\n"
     ]
    }
   ],
   "source": [
    "numbers = input('Enter a list of numbers: ')\n",
    "nums = [int(x) for x in numbers.split()]\n",
    "\n",
    "threshold = int(input('A Threshold number: '))\n",
    "above = []\n",
    "\n",
    "for num in nums:\n",
    "    if num > threshold:\n",
    "        above.append(num)\n",
    "if above:\n",
    "    ave = sum(above) / len(above)\n",
    "    print(ave)\n",
    "else:\n",
    "    print(\"no num above threshold\")"
   ]
  },
  {
   "cell_type": "code",
   "execution_count": null,
   "id": "a03216ff-b89b-4452-a5ca-d0f35fd198a8",
   "metadata": {},
   "outputs": [],
   "source": []
  }
 ],
 "metadata": {
  "kernelspec": {
   "display_name": "Python 3 (ipykernel)",
   "language": "python",
   "name": "python3"
  },
  "language_info": {
   "codemirror_mode": {
    "name": "ipython",
    "version": 3
   },
   "file_extension": ".py",
   "mimetype": "text/x-python",
   "name": "python",
   "nbconvert_exporter": "python",
   "pygments_lexer": "ipython3",
   "version": "3.12.3"
  }
 },
 "nbformat": 4,
 "nbformat_minor": 5
}
