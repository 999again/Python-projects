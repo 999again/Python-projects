{
 "cells": [
  {
   "cell_type": "code",
   "execution_count": null,
   "id": "6518c812-e1d7-42d6-b792-95eeac0ecfb2",
   "metadata": {},
   "outputs": [],
   "source": [
    "# Challenge: Count Positive Numbers\n",
    "# Task: Write a program that counts how many numbers in a user-provided list are positive (greater than 0).\n",
    "\n",
    "# Step 1: Ask the user to enter numbers\n",
    "numbers = input(\"Enter a list of numbers: \")\n",
    "\n",
    "# Step 2: Split the input and convert to a list of integers\n",
    "num_list = [int(x) for x in numbers.split()]\n",
    "\n",
    "# Step 3: Initialize a counter for positive numbers\n",
    "positive_count = 0\n",
    "\n",
    "# Step 4: Loop through the numbers and count the positives\n",
    "for num in num_list:\n",
    "    if num > 0:\n",
    "        positive_count += 1\n",
    "\n",
    "# Step 5: Print the result\n",
    "print(\"Count of positive numbers:\", positive_count)\n"
   ]
  }
 ],
 "metadata": {
  "kernelspec": {
   "display_name": "Python 3 (ipykernel)",
   "language": "python",
   "name": "python3"
  },
  "language_info": {
   "codemirror_mode": {
    "name": "ipython",
    "version": 3
   },
   "file_extension": ".py",
   "mimetype": "text/x-python",
   "name": "python",
   "nbconvert_exporter": "python",
   "pygments_lexer": "ipython3",
   "version": "3.12.3"
  }
 },
 "nbformat": 4,
 "nbformat_minor": 5
}
