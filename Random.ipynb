{
 "cells": [
  {
   "cell_type": "code",
   "execution_count": 6,
   "id": "41faa7fc-72bb-4d54-b375-74a3272d128c",
   "metadata": {},
   "outputs": [],
   "source": [
    "def count_evens(nums):\n",
    "    count = 0\n",
    "    for num in nums:\n",
    "        if num % 2 == 0:\n",
    "            count += 1\n",
    "    return count"
   ]
  },
  {
   "cell_type": "code",
   "execution_count": 7,
   "id": "a50df74a-0e0c-4607-937e-9ecbda36926e",
   "metadata": {},
   "outputs": [
    {
     "name": "stdout",
     "output_type": "stream",
     "text": [
      "3\n",
      "0\n",
      "5\n",
      "0\n",
      "2\n"
     ]
    }
   ],
   "source": [
    "print(count_evens([1, 2, 3, 4, 5, 6]))  # Expected: 3\n",
    "print(count_evens([7, 9, 11]))         # Expected: 0\n",
    "print(count_evens([2, 4, 6, 8, 10]))   # Expected: 5\n",
    "print(count_evens([]))                # Expected: 0\n",
    "print(count_evens([0, 1, 2]))         # Expected: 2\n"
   ]
  },
  {
   "cell_type": "code",
   "execution_count": 18,
   "id": "4542e30d-5859-4791-b5f1-c7e186142ddd",
   "metadata": {},
   "outputs": [],
   "source": [
    "num = 1"
   ]
  },
  {
   "cell_type": "code",
   "execution_count": 19,
   "id": "72ac9117-f35d-4d36-99af-e74b58dc469a",
   "metadata": {},
   "outputs": [
    {
     "name": "stdout",
     "output_type": "stream",
     "text": [
      "1\n",
      "2\n",
      "3\n",
      "4\n",
      "5\n"
     ]
    }
   ],
   "source": [
    "while num <= 5:\n",
    "    print(num)\n",
    "    num += 1"
   ]
  },
  {
   "cell_type": "code",
   "execution_count": 20,
   "id": "b83326f8-1ea4-4086-ba95-c487507ed222",
   "metadata": {},
   "outputs": [
    {
     "name": "stdin",
     "output_type": "stream",
     "text": [
      "Enter a number:  98\n"
     ]
    },
    {
     "name": "stdout",
     "output_type": "stream",
     "text": [
      "Positive\n"
     ]
    }
   ],
   "source": [
    "x = int(input(\"Enter a number: \"))\n",
    "\n",
    "if x > 0:\n",
    "  print(\"Positive\")\n",
    "elif x == 0:\n",
    "    print(\"Zero\")\n",
    "else:\n",
    "  print(\"Negattive\")\n"
   ]
  },
  {
   "cell_type": "code",
   "execution_count": null,
   "id": "d2da49d5-85a1-485f-92cb-8b5149c8952b",
   "metadata": {},
   "outputs": [],
   "source": []
  }
 ],
 "metadata": {
  "kernelspec": {
   "display_name": "Python 3 (ipykernel)",
   "language": "python",
   "name": "python3"
  },
  "language_info": {
   "codemirror_mode": {
    "name": "ipython",
    "version": 3
   },
   "file_extension": ".py",
   "mimetype": "text/x-python",
   "name": "python",
   "nbconvert_exporter": "python",
   "pygments_lexer": "ipython3",
   "version": "3.12.3"
  }
 },
 "nbformat": 4,
 "nbformat_minor": 5
}
