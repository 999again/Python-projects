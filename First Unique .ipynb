{
 "cells": [
  {
   "cell_type": "code",
   "execution_count": 2,
   "id": "4cbd6e62-7f65-4884-9a7b-89632866bbbb",
   "metadata": {},
   "outputs": [
    {
     "name": "stdout",
     "output_type": "stream",
     "text": [
      "0\n",
      "2\n",
      "-1\n",
      "-1\n",
      "0\n",
      "0\n",
      "2\n",
      "-1\n",
      "-1\n",
      "0\n"
     ]
    }
   ],
   "source": [
    "# Task: First Unique Character in a String\n",
    "\n",
    "# Step 1: Count character frequencies\n",
    "# Step 2: Loop again to find the first char with count 1\n",
    "\n",
    "def first_unique_char(s):\n",
    "    # Step 1: Build frequency dictionary\n",
    "    char_count = {}\n",
    "    for char in s:\n",
    "        char_count[char] = char_count.get(char, 0) + 1\n",
    "\n",
    "    # Step 2: Find the first unique character\n",
    "    for index, char in enumerate(s):\n",
    "        if char_count[char] == 1:\n",
    "            return index\n",
    "\n",
    "    return -1\n",
    "\n",
    "\n",
    "# Test cases\n",
    "print(first_unique_char(\"leetcode\"))     # Expected: 0\n",
    "print(first_unique_char(\"loveleetcode\")) # Expected: 2\n",
    "print(first_unique_char(\"aabb\"))         # Expected: -1\n",
    "print(first_unique_char(\"\"))             # Expected: -1\n",
    "print(first_unique_char(\"aAbBc\"))        # Expected: 4\n",
    "\n",
    "print(first_unique_char(\"leetcode\"))       # Expected: 0\n",
    "print(first_unique_char(\"loveleetcode\"))   # Expected: 2\n",
    "print(first_unique_char(\"aabb\"))           # Expected: -1\n",
    "print(first_unique_char(\"\"))               # Expected: -1\n",
    "print(first_unique_char(\"aAbBc\"))          # Expected: 4\n"
   ]
  },
  {
   "cell_type": "code",
   "execution_count": null,
   "id": "7609b0c1-0994-4a4d-a7c2-b6b7a1d19ca1",
   "metadata": {},
   "outputs": [],
   "source": []
  }
 ],
 "metadata": {
  "kernelspec": {
   "display_name": "Python 3 (ipykernel)",
   "language": "python",
   "name": "python3"
  },
  "language_info": {
   "codemirror_mode": {
    "name": "ipython",
    "version": 3
   },
   "file_extension": ".py",
   "mimetype": "text/x-python",
   "name": "python",
   "nbconvert_exporter": "python",
   "pygments_lexer": "ipython3",
   "version": "3.12.3"
  }
 },
 "nbformat": 4,
 "nbformat_minor": 5
}
