{
 "cells": [
  {
   "cell_type": "code",
   "execution_count": 3,
   "id": "efb0195d",
   "metadata": {},
   "outputs": [
    {
     "name": "stdout",
     "output_type": "stream",
     "text": [
      "True\n"
     ]
    }
   ],
   "source": [
    "\n",
    "def is_anagram (string1, string2):\n",
    "    \n",
    "    if len(string1) != len(string2):\n",
    "        return False\n",
    "    count_string1 = {}\n",
    "    count_string2 = {}\n",
    "\n",
    "    \n",
    "    for char in string1:\n",
    "        count_string1[char] = count_string1.get(char, 0) + 1\n",
    "   \n",
    "    for char in string2:\n",
    "        count_string2[char] = count_string2.get(char, 0) + 1\n",
    "\n",
    "    \n",
    "    return count_string1 == count_string2\n",
    "print(is_anagram('anagram', 'nagaram'))"
   ]
  },
  {
   "cell_type": "code",
   "execution_count": 4,
   "id": "ffc25add",
   "metadata": {},
   "outputs": [
    {
     "name": "stdout",
     "output_type": "stream",
     "text": [
      "False\n"
     ]
    }
   ],
   "source": [
    "print(is_anagram('rat', 'car'))"
   ]
  },
  {
   "cell_type": "code",
   "execution_count": null,
   "id": "fe656570",
   "metadata": {},
   "outputs": [],
   "source": []
  }
 ],
 "metadata": {
  "kernelspec": {
   "display_name": "Python 3",
   "language": "python",
   "name": "python3"
  },
  "language_info": {
   "codemirror_mode": {
    "name": "ipython",
    "version": 3
   },
   "file_extension": ".py",
   "mimetype": "text/x-python",
   "name": "python",
   "nbconvert_exporter": "python",
   "pygments_lexer": "ipython3",
   "version": "3.13.3"
  }
 },
 "nbformat": 4,
 "nbformat_minor": 5
}
