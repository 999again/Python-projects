{
 "cells": [
  {
   "cell_type": "code",
   "execution_count": 5,
   "id": "3685250b-fb53-446f-a44e-d80a28698a26",
   "metadata": {},
   "outputs": [
    {
     "name": "stdout",
     "output_type": "stream",
     "text": [
      "olleh dlrow\n"
     ]
    }
   ],
   "source": [
    "sentence = \"hello world\"\n",
    "words = sentence.split()\n",
    "reversed_words = []\n",
    "for word in words:\n",
    "    reversed_words.append(word[::-1])\n",
    "reversed_sentence = ' '.join(reversed_words)\n",
    "print(reversed_sentence)"
   ]
  },
  {
   "cell_type": "code",
   "execution_count": null,
   "id": "b226b67c-ae4f-4398-a064-8bb1e65b64d9",
   "metadata": {},
   "outputs": [],
   "source": []
  }
 ],
 "metadata": {
  "kernelspec": {
   "display_name": "Python 3 (ipykernel)",
   "language": "python",
   "name": "python3"
  },
  "language_info": {
   "codemirror_mode": {
    "name": "ipython",
    "version": 3
   },
   "file_extension": ".py",
   "mimetype": "text/x-python",
   "name": "python",
   "nbconvert_exporter": "python",
   "pygments_lexer": "ipython3",
   "version": "3.12.3"
  }
 },
 "nbformat": 4,
 "nbformat_minor": 5
}
