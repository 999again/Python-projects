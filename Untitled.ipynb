{
 "cells": [
  {
   "cell_type": "code",
   "execution_count": 4,
   "id": "ebb364ad-3aff-4803-812a-b45690ef6f0c",
   "metadata": {},
   "outputs": [],
   "source": [
    "def greet(name):\n",
    "    print(\"Hello, \"+ name + \"!\")"
   ]
  },
  {
   "cell_type": "code",
   "execution_count": 5,
   "id": "931050fd-33d1-4e17-9d75-ae6423c94e6c",
   "metadata": {},
   "outputs": [
    {
     "name": "stdout",
     "output_type": "stream",
     "text": [
      "Hello, Charles!\n"
     ]
    }
   ],
   "source": [
    "greet(\"Charles\")"
   ]
  },
  {
   "cell_type": "code",
   "execution_count": 7,
   "id": "3123452e-7096-4b9f-a5d4-d2a3f44dfc65",
   "metadata": {},
   "outputs": [],
   "source": [
    "def add_numbers(a, b):\n",
    "    return (a + b)"
   ]
  },
  {
   "cell_type": "code",
   "execution_count": 8,
   "id": "13b1603f-391d-4bb5-b66d-a2e16e07ea4a",
   "metadata": {},
   "outputs": [],
   "source": [
    "result = add_numbers(4, 8)"
   ]
  },
  {
   "cell_type": "code",
   "execution_count": 9,
   "id": "060fff42-1cb2-4875-bf83-a380f876f1ef",
   "metadata": {},
   "outputs": [
    {
     "name": "stdout",
     "output_type": "stream",
     "text": [
      "12\n"
     ]
    }
   ],
   "source": [
    "print(result)"
   ]
  },
  {
   "cell_type": "code",
   "execution_count": 14,
   "id": "a2604738-f760-48ed-b61c-20846733c1bd",
   "metadata": {},
   "outputs": [
    {
     "name": "stdin",
     "output_type": "stream",
     "text": [
      "Enter a set of numbers:  1 2 3 4 5 6 7 8 9 10\n"
     ]
    },
    {
     "name": "stdout",
     "output_type": "stream",
     "text": [
      "The product of all numbers is: 3628800\n"
     ]
    }
   ],
   "source": [
    "numbers = input(\"Enter a set of numbers: \")\n",
    "new = numbers.split()\n",
    "nums = [int(x) for x in new]\n",
    "\n",
    "product = 1\n",
    "for num in nums:\n",
    "     product *= num\n",
    "\n",
    "print(\"The product of all numbers is:\", product)"
   ]
  },
  {
   "cell_type": "code",
   "execution_count": null,
   "id": "c28d1199-71a9-443d-a1b2-75ea14ed7f0a",
   "metadata": {},
   "outputs": [],
   "source": []
  }
 ],
 "metadata": {
  "kernelspec": {
   "display_name": "Python 3 (ipykernel)",
   "language": "python",
   "name": "python3"
  },
  "language_info": {
   "codemirror_mode": {
    "name": "ipython",
    "version": 3
   },
   "file_extension": ".py",
   "mimetype": "text/x-python",
   "name": "python",
   "nbconvert_exporter": "python",
   "pygments_lexer": "ipython3",
   "version": "3.12.3"
  }
 },
 "nbformat": 4,
 "nbformat_minor": 5
}
