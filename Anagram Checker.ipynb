{
 "cells": [
  {
   "cell_type": "code",
   "execution_count": 1,
   "id": "bab64ea6-f00e-413c-808f-1e6c585c7720",
   "metadata": {},
   "outputs": [
    {
     "name": "stdout",
     "output_type": "stream",
     "text": [
      "True\n"
     ]
    }
   ],
   "source": [
    "\n",
    "def is_anagram (string1, string2):\n",
    "    \n",
    "    if len(string1) != len(string2):\n",
    "        return False\n",
    "    count_string1 = {}\n",
    "    count_string2 = {}\n",
    "\n",
    "    \n",
    "    for char in string1:\n",
    "        count_string1[char] = count_string1.get(char, 0) + 1\n",
    "   \n",
    "    for char in string2:\n",
    "        count_string2[char] = count_string2.get(char, 0) + 1\n",
    "\n",
    "    \n",
    "    return count_string1 == count_string2\n",
    "print(is_anagram('anagram', 'nagaram'))"
   ]
  },
  {
   "cell_type": "code",
   "execution_count": null,
   "id": "d16a279d-55b0-442f-bb6a-2e5c2872b29c",
   "metadata": {},
   "outputs": [],
   "source": []
  }
 ],
 "metadata": {
  "kernelspec": {
   "display_name": "Python 3 (ipykernel)",
   "language": "python",
   "name": "python3"
  },
  "language_info": {
   "codemirror_mode": {
    "name": "ipython",
    "version": 3
   },
   "file_extension": ".py",
   "mimetype": "text/x-python",
   "name": "python",
   "nbconvert_exporter": "python",
   "pygments_lexer": "ipython3",
   "version": "3.12.3"
  }
 },
 "nbformat": 4,
 "nbformat_minor": 5
}
