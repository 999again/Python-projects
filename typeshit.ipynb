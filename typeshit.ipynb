{
 "cells": [
  {
   "cell_type": "code",
   "execution_count": 1,
   "id": "aa6b5896",
   "metadata": {},
   "outputs": [
    {
     "name": "stdout",
     "output_type": "stream",
     "text": [
      "[0, 1]\n"
     ]
    }
   ],
   "source": [
    "def fun(num, target):\n",
    "    for i in range(len(num)):\n",
    "        for j in range(i + 1, len(num)):\n",
    "            if num[i] + num[j] == target:\n",
    "                return [i, j]\n",
    "        \n",
    "num = [1, 2, 3, 4, 5, 6, 7, 8, 9]\n",
    "target = 3\n",
    "\n",
    "print(fun(num, target))"
   ]
  },
  {
   "cell_type": "code",
   "execution_count": 2,
   "id": "8791200d",
   "metadata": {},
   "outputs": [
    {
     "name": "stdout",
     "output_type": "stream",
     "text": [
      "[3, 4]\n"
     ]
    }
   ],
   "source": [
    "num1 =[24, 56, 71, 3, 7, 89, 10]\n",
    "target1 = 10\n",
    "\n",
    "print(fun(num1, target1))"
   ]
  },
  {
   "cell_type": "code",
   "execution_count": null,
   "id": "16bd14e7",
   "metadata": {},
   "outputs": [],
   "source": []
  }
 ],
 "metadata": {
  "kernelspec": {
   "display_name": "Python 3",
   "language": "python",
   "name": "python3"
  },
  "language_info": {
   "codemirror_mode": {
    "name": "ipython",
    "version": 3
   },
   "file_extension": ".py",
   "mimetype": "text/x-python",
   "name": "python",
   "nbconvert_exporter": "python",
   "pygments_lexer": "ipython3",
   "version": "3.13.3"
  }
 },
 "nbformat": 4,
 "nbformat_minor": 5
}
